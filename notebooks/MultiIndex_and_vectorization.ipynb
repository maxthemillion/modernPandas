{
 "cells": [
  {
   "cell_type": "markdown",
   "source": [
    "# MultiIndex and Vectorization\n",
    "A MultiIndex comes in handy in all situations where one has to deal with hierarchical data. "
   ],
   "metadata": {}
  },
  {
   "cell_type": "code",
   "execution_count": 2,
   "source": [
    "import pandas as pd \n",
    "import numpy as np"
   ],
   "outputs": [],
   "metadata": {}
  },
  {
   "cell_type": "code",
   "execution_count": 21,
   "source": [
    "df = (\n",
    "    pd.read_csv(\n",
    "    \"https://raw.githubusercontent.com/jpatokal/openflights/master/data/airports.dat\", \n",
    "    names=[\n",
    "        \"ix\", \n",
    "        \"name\",\n",
    "        \"city\",\n",
    "        \"country\",\n",
    "        \"IATA\",\n",
    "        \"ICAO\",\n",
    "        \"lat\",\n",
    "        \"long\",\n",
    "        \"alt\",\n",
    "        \"timezone\",\n",
    "        \"dst\",\n",
    "        \"tz_db\",\n",
    "        \"type\",\n",
    "        \"source\"\n",
    "    ],\n",
    "    usecols=[\"IATA\", \"lat\", \"long\"],\n",
    "    index_col=\"IATA\"\n",
    "    )\n",
    "    .sample(n=500, random_state=42)\n",
    "    .groupby(level=0).first() # removes duplicates\n",
    "    .sort_index()\n",
    ")"
   ],
   "outputs": [],
   "metadata": {}
  },
  {
   "cell_type": "code",
   "execution_count": 22,
   "source": [
    "df.head()"
   ],
   "outputs": [
    {
     "output_type": "execute_result",
     "data": {
      "text/html": [
       "<div>\n",
       "<style scoped>\n",
       "    .dataframe tbody tr th:only-of-type {\n",
       "        vertical-align: middle;\n",
       "    }\n",
       "\n",
       "    .dataframe tbody tr th {\n",
       "        vertical-align: top;\n",
       "    }\n",
       "\n",
       "    .dataframe thead th {\n",
       "        text-align: right;\n",
       "    }\n",
       "</style>\n",
       "<table border=\"1\" class=\"dataframe\">\n",
       "  <thead>\n",
       "    <tr style=\"text-align: right;\">\n",
       "      <th></th>\n",
       "      <th>lat</th>\n",
       "      <th>long</th>\n",
       "    </tr>\n",
       "    <tr>\n",
       "      <th>IATA</th>\n",
       "      <th></th>\n",
       "      <th></th>\n",
       "    </tr>\n",
       "  </thead>\n",
       "  <tbody>\n",
       "    <tr>\n",
       "      <th>AAT</th>\n",
       "      <td>47.749886</td>\n",
       "      <td>88.085808</td>\n",
       "    </tr>\n",
       "    <tr>\n",
       "      <th>ABV</th>\n",
       "      <td>9.006790</td>\n",
       "      <td>7.263170</td>\n",
       "    </tr>\n",
       "    <tr>\n",
       "      <th>ACF</th>\n",
       "      <td>-27.570299</td>\n",
       "      <td>153.007996</td>\n",
       "    </tr>\n",
       "    <tr>\n",
       "      <th>ADF</th>\n",
       "      <td>37.731400</td>\n",
       "      <td>38.468899</td>\n",
       "    </tr>\n",
       "    <tr>\n",
       "      <th>AGU</th>\n",
       "      <td>21.705601</td>\n",
       "      <td>-102.318001</td>\n",
       "    </tr>\n",
       "  </tbody>\n",
       "</table>\n",
       "</div>"
      ],
      "text/plain": [
       "            lat        long\n",
       "IATA                       \n",
       "AAT   47.749886   88.085808\n",
       "ABV    9.006790    7.263170\n",
       "ACF  -27.570299  153.007996\n",
       "ADF   37.731400   38.468899\n",
       "AGU   21.705601 -102.318001"
      ]
     },
     "metadata": {},
     "execution_count": 22
    }
   ],
   "metadata": {}
  },
  {
   "cell_type": "markdown",
   "source": [
    "## Cross product"
   ],
   "metadata": {}
  },
  {
   "cell_type": "markdown",
   "source": [
    "When it comes to producing the cross product of an input table with itself, you have multiple options. The first one below is taken from [Tom Augspurger's blogpost](https://tomaugspurger.github.io/modern-4-performance). It relies on a thinking in MultiIndex-terms: First create the MultiIndex, then reassign the existing DataFrames to the MultiIndex."
   ],
   "metadata": {}
  },
  {
   "cell_type": "code",
   "execution_count": 57,
   "source": [
    "def cross_prod_1(df):\n",
    "    idx = pd.MultiIndex.from_product([df.index, df.index], names=[\"orig\", \"dest\"])\n",
    "    pairs = pd.concat(\n",
    "        [df.add_suffix('_1').reindex(idx, level=\"orig\"),\n",
    "        df.add_suffix('_2').reindex(idx, level=\"dest\")],\n",
    "        axis=1\n",
    "    )\n",
    "    return pairs"
   ],
   "outputs": [],
   "metadata": {}
  },
  {
   "cell_type": "code",
   "execution_count": 60,
   "source": [
    "%%timeit\n",
    "cross_prod_1(df)"
   ],
   "outputs": [
    {
     "output_type": "stream",
     "name": "stdout",
     "text": [
      "83.9 ms ± 11.8 ms per loop (mean ± std. dev. of 7 runs, 10 loops each)\n"
     ]
    }
   ],
   "metadata": {}
  },
  {
   "cell_type": "markdown",
   "source": [
    "The second approach - the one that I came up with - uses pd.DataFrame.merge() to explicitly create a cross product of the original DataFrame with itself and then resets the index to a MultiIndex."
   ],
   "metadata": {}
  },
  {
   "cell_type": "code",
   "execution_count": 65,
   "source": [
    "def cross_prod_2(df):\n",
    "    df = df.reset_index()\n",
    "    pairs = (\n",
    "        df\n",
    "        .merge(df, how=\"cross\", suffixes=('_1', '_2'))\n",
    "        .set_index([\"IATA_1\",\"IATA_2\"]))\n",
    "    pairs.index = pairs.index.rename([\"orig\", \"dest\"])\n",
    "    return pairs"
   ],
   "outputs": [],
   "metadata": {}
  },
  {
   "cell_type": "code",
   "execution_count": 66,
   "source": [
    "%%timeit\n",
    "cross_prod_2(df)"
   ],
   "outputs": [
    {
     "output_type": "stream",
     "name": "stdout",
     "text": [
      "63.7 ms ± 1.33 ms per loop (mean ± std. dev. of 7 runs, 10 loops each)\n"
     ]
    }
   ],
   "metadata": {}
  },
  {
   "cell_type": "code",
   "execution_count": 64,
   "source": [
    "pd.testing.assert_frame_equal(cross_prod_1(df), cross_prod_2(df))"
   ],
   "outputs": [],
   "metadata": {}
  },
  {
   "cell_type": "markdown",
   "source": [
    "Apparently, both approaches are similar in performance, but I personally like Tom's approach a bit more. It is less obvious to the pandas newbie but a bit more elegant in the end."
   ],
   "metadata": {}
  },
  {
   "cell_type": "markdown",
   "source": [
    "## Vectorized calculations"
   ],
   "metadata": {}
  },
  {
   "cell_type": "markdown",
   "source": [
    "Let's assume, we'd like to do a calculation on all rows of this MultiIndex dataframe that we just created. In general there are two paths we could take:\n",
    "\n",
    "1. The iteration approach, which uses pd.DataFrame.apply(..., axis=1) or a for loop to apply the calculation to all rows\n",
    "2. The broadcasting approach, which uses vectorization to apply the function to all rows.\n",
    "\n",
    "So now in this example, we are for some reason interested in the sum of all elements of a row in the dataframe."
   ],
   "metadata": {}
  },
  {
   "cell_type": "code",
   "execution_count": 73,
   "source": [
    "pairs = cross_prod_1(df)"
   ],
   "outputs": [],
   "metadata": {}
  },
  {
   "cell_type": "code",
   "execution_count": 108,
   "source": [
    "def calc_iter(df):\n",
    "    return df.apply(lambda row: sum(row), axis=1)"
   ],
   "outputs": [],
   "metadata": {}
  },
  {
   "cell_type": "code",
   "execution_count": 101,
   "source": [
    "def calc_vector(df):\n",
    "    row_sums =  np.sum(df, axis=1)\n",
    "    return pd.Series(row_sums, index=df.index)"
   ],
   "outputs": [],
   "metadata": {}
  },
  {
   "cell_type": "code",
   "execution_count": 109,
   "source": [
    "%%timeit\n",
    "calc_iter(pairs)"
   ],
   "outputs": [
    {
     "output_type": "stream",
     "name": "stdout",
     "text": [
      "1.55 s ± 78.1 ms per loop (mean ± std. dev. of 7 runs, 1 loop each)\n"
     ]
    }
   ],
   "metadata": {}
  },
  {
   "cell_type": "code",
   "execution_count": 103,
   "source": [
    "%%timeit\n",
    "calc_vector(pairs)"
   ],
   "outputs": [
    {
     "output_type": "stream",
     "name": "stdout",
     "text": [
      "4.77 ms ± 1.31 ms per loop (mean ± std. dev. of 7 runs, 100 loops each)\n"
     ]
    }
   ],
   "metadata": {}
  },
  {
   "cell_type": "code",
   "execution_count": 110,
   "source": [
    "pd.testing.assert_series_equal(\n",
    "    calc_iter(pairs),\n",
    "    calc_vector(pairs)\n",
    ")"
   ],
   "outputs": [],
   "metadata": {}
  },
  {
   "cell_type": "code",
   "execution_count": null,
   "source": [],
   "outputs": [],
   "metadata": {}
  }
 ],
 "metadata": {
  "orig_nbformat": 4,
  "language_info": {
   "name": "python",
   "version": "3.9.7",
   "mimetype": "text/x-python",
   "codemirror_mode": {
    "name": "ipython",
    "version": 3
   },
   "pygments_lexer": "ipython3",
   "nbconvert_exporter": "python",
   "file_extension": ".py"
  },
  "kernelspec": {
   "name": "python3",
   "display_name": "Python 3.9.7 64-bit ('modernpandas': conda)"
  },
  "interpreter": {
   "hash": "1cddcd3bf520ceeec38f8103cc702b4c8abe5d6f91ca24279e698df94a2f83d1"
  }
 },
 "nbformat": 4,
 "nbformat_minor": 2
}