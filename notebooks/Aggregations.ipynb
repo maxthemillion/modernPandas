{
 "cells": [
  {
   "cell_type": "markdown",
   "source": [
    "# Aggregations in Groups of Rows\n",
    "**Problem statement:** Given a dataset with multiple columns, you'd like to group by one (or more) columns and apply an aggregation function to these groups. "
   ],
   "metadata": {}
  },
  {
   "cell_type": "code",
   "execution_count": 20,
   "source": [
    "import pandas as pd\n",
    "import seaborn as sns\n",
    "df = (sns.load_dataset('flights'))"
   ],
   "outputs": [],
   "metadata": {}
  },
  {
   "cell_type": "code",
   "execution_count": 4,
   "source": [
    "df.shape"
   ],
   "outputs": [
    {
     "output_type": "execute_result",
     "data": {
      "text/plain": [
       "(144, 3)"
      ]
     },
     "metadata": {},
     "execution_count": 4
    }
   ],
   "metadata": {}
  },
  {
   "cell_type": "code",
   "execution_count": 5,
   "source": [
    "df.head()"
   ],
   "outputs": [
    {
     "output_type": "execute_result",
     "data": {
      "text/html": [
       "<div>\n",
       "<style scoped>\n",
       "    .dataframe tbody tr th:only-of-type {\n",
       "        vertical-align: middle;\n",
       "    }\n",
       "\n",
       "    .dataframe tbody tr th {\n",
       "        vertical-align: top;\n",
       "    }\n",
       "\n",
       "    .dataframe thead th {\n",
       "        text-align: right;\n",
       "    }\n",
       "</style>\n",
       "<table border=\"1\" class=\"dataframe\">\n",
       "  <thead>\n",
       "    <tr style=\"text-align: right;\">\n",
       "      <th></th>\n",
       "      <th>year</th>\n",
       "      <th>month</th>\n",
       "      <th>passengers</th>\n",
       "    </tr>\n",
       "  </thead>\n",
       "  <tbody>\n",
       "    <tr>\n",
       "      <th>0</th>\n",
       "      <td>1949</td>\n",
       "      <td>Jan</td>\n",
       "      <td>112</td>\n",
       "    </tr>\n",
       "    <tr>\n",
       "      <th>1</th>\n",
       "      <td>1949</td>\n",
       "      <td>Feb</td>\n",
       "      <td>118</td>\n",
       "    </tr>\n",
       "    <tr>\n",
       "      <th>2</th>\n",
       "      <td>1949</td>\n",
       "      <td>Mar</td>\n",
       "      <td>132</td>\n",
       "    </tr>\n",
       "    <tr>\n",
       "      <th>3</th>\n",
       "      <td>1949</td>\n",
       "      <td>Apr</td>\n",
       "      <td>129</td>\n",
       "    </tr>\n",
       "    <tr>\n",
       "      <th>4</th>\n",
       "      <td>1949</td>\n",
       "      <td>May</td>\n",
       "      <td>121</td>\n",
       "    </tr>\n",
       "  </tbody>\n",
       "</table>\n",
       "</div>"
      ],
      "text/plain": [
       "   year month  passengers\n",
       "0  1949   Jan         112\n",
       "1  1949   Feb         118\n",
       "2  1949   Mar         132\n",
       "3  1949   Apr         129\n",
       "4  1949   May         121"
      ]
     },
     "metadata": {},
     "execution_count": 5
    }
   ],
   "metadata": {}
  },
  {
   "cell_type": "code",
   "execution_count": 6,
   "source": [
    "def groupby_in_forloop(d):\n",
    "    grouped = d.groupby(\"month\")\n",
    "    result = []\n",
    "    for name, group in grouped :\n",
    "        result += [[name, sum(group.passengers)]]\n",
    "    \n",
    "    result = pd.DataFrame(result)\n",
    "    result.columns = [\"month\", \"sum_passengers\"]\n",
    "    return result"
   ],
   "outputs": [],
   "metadata": {}
  },
  {
   "cell_type": "code",
   "execution_count": 7,
   "source": [
    "def groupby_aggregation(d):\n",
    "    grouped = d.groupby(\"month\")\n",
    "    \n",
    "    result = grouped.agg({\"passengers\":\"sum\"})\n",
    "    \n",
    "    result = result.reset_index()\n",
    "    result.columns = [\"month\", \"sum_passengers\"]\n",
    "    return result"
   ],
   "outputs": [],
   "metadata": {}
  },
  {
   "cell_type": "code",
   "execution_count": 8,
   "source": [
    "def groupby_aggregation_2(d):\n",
    "    grouped = d.groupby(\"month\")\n",
    "    \n",
    "    result = grouped.sum()\n",
    "    \n",
    "    result = result.reset_index().drop(columns=[\"year\"])\n",
    "    result.columns = [\"month\", \"sum_passengers\"]\n",
    "    return result"
   ],
   "outputs": [],
   "metadata": {}
  },
  {
   "cell_type": "code",
   "execution_count": 9,
   "source": [
    "def iterate_df_in_forloop(d):\n",
    "    result = []\n",
    "    for m in d.month.unique():\n",
    "        current = d.loc[lambda d: (d.month == m)]\n",
    "        result += [[m, sum(current.passengers)]]\n",
    "    \n",
    "    result = pd.DataFrame(result)\n",
    "    result.columns = [\"month\", \"sum_passengers\"]\n",
    "   \n",
    "    return result"
   ],
   "outputs": [],
   "metadata": {}
  },
  {
   "cell_type": "code",
   "execution_count": 10,
   "source": [
    "def groupby_apply(d):\n",
    "    grouped = d.groupby(\"month\")\n",
    "    \n",
    "    result = grouped.apply(lambda d: sum(d.passengers))\n",
    "    \n",
    "    result = pd.DataFrame(result).reset_index()\n",
    "    result.columns = [\"month\", \"sum_passengers\"]\n",
    "\n",
    "    return result"
   ],
   "outputs": [],
   "metadata": {}
  },
  {
   "cell_type": "code",
   "execution_count": 11,
   "source": [
    "%%timeit\n",
    "iterate_df_in_forloop(df)"
   ],
   "outputs": [
    {
     "output_type": "stream",
     "name": "stdout",
     "text": [
      "6.26 ms ± 67.3 µs per loop (mean ± std. dev. of 7 runs, 100 loops each)\n"
     ]
    }
   ],
   "metadata": {}
  },
  {
   "cell_type": "code",
   "execution_count": 12,
   "source": [
    "%%timeit\n",
    "groupby_in_forloop(df)"
   ],
   "outputs": [
    {
     "output_type": "stream",
     "name": "stdout",
     "text": [
      "2.55 ms ± 71.4 µs per loop (mean ± std. dev. of 7 runs, 100 loops each)\n"
     ]
    }
   ],
   "metadata": {}
  },
  {
   "cell_type": "code",
   "execution_count": 13,
   "source": [
    "%%timeit\n",
    "groupby_aggregation(df)"
   ],
   "outputs": [
    {
     "output_type": "stream",
     "name": "stdout",
     "text": [
      "2.7 ms ± 385 µs per loop (mean ± std. dev. of 7 runs, 100 loops each)\n"
     ]
    }
   ],
   "metadata": {}
  },
  {
   "cell_type": "code",
   "execution_count": 14,
   "source": [
    "%%timeit\n",
    "groupby_apply(df)"
   ],
   "outputs": [
    {
     "output_type": "stream",
     "name": "stdout",
     "text": [
      "3.26 ms ± 71.9 µs per loop (mean ± std. dev. of 7 runs, 100 loops each)\n"
     ]
    }
   ],
   "metadata": {}
  },
  {
   "cell_type": "code",
   "execution_count": 15,
   "source": [
    "%%timeit\n",
    "groupby_aggregation_2"
   ],
   "outputs": [
    {
     "output_type": "stream",
     "name": "stdout",
     "text": [
      "28.8 ns ± 0.401 ns per loop (mean ± std. dev. of 7 runs, 10000000 loops each)\n"
     ]
    }
   ],
   "metadata": {}
  },
  {
   "cell_type": "code",
   "execution_count": 16,
   "source": [
    "pd.testing.assert_frame_equal(\n",
    "    groupby_in_forloop(df), \n",
    "    iterate_df_in_forloop(df))"
   ],
   "outputs": [],
   "metadata": {}
  },
  {
   "cell_type": "code",
   "execution_count": 17,
   "source": [
    "# grouping and resetting index results in the index column being converted to Categorical\n",
    "pd.testing.assert_frame_equal(\n",
    "    groupby_in_forloop(df), \n",
    "    groupby_aggregation(df), \n",
    "    check_dtype=False,\n",
    "    check_categorical=False\n",
    ")"
   ],
   "outputs": [],
   "metadata": {}
  },
  {
   "cell_type": "code",
   "execution_count": 18,
   "source": [
    "pd.testing.assert_frame_equal(\n",
    "    groupby_in_forloop(df),\n",
    "    groupby_apply(df),\n",
    "    check_dtype=False,\n",
    "    check_categorical=False\n",
    ")"
   ],
   "outputs": [],
   "metadata": {}
  },
  {
   "cell_type": "code",
   "execution_count": 19,
   "source": [
    "pd.testing.assert_frame_equal(\n",
    "    groupby_in_forloop(df),\n",
    "    groupby_aggregation_2(df),\n",
    "    check_dtype=False,\n",
    "    check_categorical=False\n",
    ")"
   ],
   "outputs": [],
   "metadata": {}
  },
  {
   "cell_type": "code",
   "execution_count": null,
   "source": [],
   "outputs": [],
   "metadata": {}
  }
 ],
 "metadata": {
  "kernelspec": {
   "name": "python3",
   "display_name": "Python 3.9.7 64-bit ('modernpandas': conda)"
  },
  "language_info": {
   "codemirror_mode": {
    "name": "ipython",
    "version": 3
   },
   "file_extension": ".py",
   "mimetype": "text/x-python",
   "name": "python",
   "nbconvert_exporter": "python",
   "pygments_lexer": "ipython3",
   "version": "3.9.7"
  },
  "interpreter": {
   "hash": "1cddcd3bf520ceeec38f8103cc702b4c8abe5d6f91ca24279e698df94a2f83d1"
  }
 },
 "nbformat": 4,
 "nbformat_minor": 2
}