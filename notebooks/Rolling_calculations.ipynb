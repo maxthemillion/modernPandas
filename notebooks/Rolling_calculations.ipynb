{
 "cells": [
  {
   "cell_type": "markdown",
   "source": [
    "# Rolling Calculations\n",
    "**Problem Statement:** Given a dataframe, you'd like to apply a rolling calculation to one (or more columns), where rolling means that the result in one row depends on the previous row. The result of the calculation should be available as additional column in your dataframe."
   ],
   "metadata": {}
  },
  {
   "cell_type": "code",
   "execution_count": 1,
   "source": [
    "import seaborn as sns\n",
    "import pandas as pd"
   ],
   "outputs": [],
   "metadata": {}
  },
  {
   "cell_type": "code",
   "execution_count": 6,
   "source": [
    "df = sns.load_dataset('flights')\n",
    "df.head()"
   ],
   "outputs": [
    {
     "output_type": "execute_result",
     "data": {
      "text/html": [
       "<div>\n",
       "<style scoped>\n",
       "    .dataframe tbody tr th:only-of-type {\n",
       "        vertical-align: middle;\n",
       "    }\n",
       "\n",
       "    .dataframe tbody tr th {\n",
       "        vertical-align: top;\n",
       "    }\n",
       "\n",
       "    .dataframe thead th {\n",
       "        text-align: right;\n",
       "    }\n",
       "</style>\n",
       "<table border=\"1\" class=\"dataframe\">\n",
       "  <thead>\n",
       "    <tr style=\"text-align: right;\">\n",
       "      <th></th>\n",
       "      <th>year</th>\n",
       "      <th>month</th>\n",
       "      <th>passengers</th>\n",
       "    </tr>\n",
       "  </thead>\n",
       "  <tbody>\n",
       "    <tr>\n",
       "      <th>0</th>\n",
       "      <td>1949</td>\n",
       "      <td>Jan</td>\n",
       "      <td>112</td>\n",
       "    </tr>\n",
       "    <tr>\n",
       "      <th>1</th>\n",
       "      <td>1949</td>\n",
       "      <td>Feb</td>\n",
       "      <td>118</td>\n",
       "    </tr>\n",
       "    <tr>\n",
       "      <th>2</th>\n",
       "      <td>1949</td>\n",
       "      <td>Mar</td>\n",
       "      <td>132</td>\n",
       "    </tr>\n",
       "    <tr>\n",
       "      <th>3</th>\n",
       "      <td>1949</td>\n",
       "      <td>Apr</td>\n",
       "      <td>129</td>\n",
       "    </tr>\n",
       "    <tr>\n",
       "      <th>4</th>\n",
       "      <td>1949</td>\n",
       "      <td>May</td>\n",
       "      <td>121</td>\n",
       "    </tr>\n",
       "  </tbody>\n",
       "</table>\n",
       "</div>"
      ],
      "text/plain": [
       "   year month  passengers\n",
       "0  1949   Jan         112\n",
       "1  1949   Feb         118\n",
       "2  1949   Mar         132\n",
       "3  1949   Apr         129\n",
       "4  1949   May         121"
      ]
     },
     "metadata": {},
     "execution_count": 6
    }
   ],
   "metadata": {}
  },
  {
   "cell_type": "code",
   "execution_count": 11,
   "source": [
    "def for_loop(d):\n",
    "    def calc(d):\n",
    "        result = []\n",
    "        previous = 0\n",
    "        for i in range(0, len(d)):\n",
    "            result += [d.passengers.loc[i]+previous]\n",
    "            previous += d.passengers.loc[i]\n",
    "        return result\n",
    "\n",
    "    return d.assign(\n",
    "            cumsum = calc(d)\n",
    "        )\n",
    "\n"
   ],
   "outputs": [],
   "metadata": {}
  },
  {
   "cell_type": "code",
   "execution_count": 18,
   "source": [
    "def for_loop_iterrows(d):\n",
    "    def calc(d):\n",
    "        result = []\n",
    "        previous = 0\n",
    "        for _, row in d.iterrows():\n",
    "            result += [row.passengers + previous]\n",
    "            previous += row.passengers\n",
    "        return result\n",
    "\n",
    "    return d.assign(\n",
    "            cumsum = calc(d)\n",
    "        )\n"
   ],
   "outputs": [],
   "metadata": {}
  },
  {
   "cell_type": "code",
   "execution_count": 25,
   "source": [
    "def for_loop_itertuples(d):\n",
    "    def calc(d):\n",
    "        result = []\n",
    "        previous = 0\n",
    "        for row in d.itertuples():\n",
    "            result += [row.passengers + previous]\n",
    "            previous += row.passengers\n",
    "        return result\n",
    "\n",
    "    return d.assign(\n",
    "            cumsum = calc(d)\n",
    "        )"
   ],
   "outputs": [],
   "metadata": {}
  },
  {
   "cell_type": "code",
   "execution_count": 27,
   "source": [
    "def pandas_cumsum(d):\n",
    "    return d.assign(\n",
    "        cumsum = lambda d: d.passengers.cumsum()\n",
    "    )"
   ],
   "outputs": [],
   "metadata": {}
  },
  {
   "cell_type": "code",
   "execution_count": 33,
   "source": [
    "def numpy_array_iteration(d):\n",
    "    def calc(d):\n",
    "        result = []\n",
    "        previous = 0\n",
    "        for e in d.passengers.values:\n",
    "            result += [e + previous]\n",
    "            previous += e\n",
    "        return result\n",
    "\n",
    "    return d.assign(\n",
    "        cumsum = lambda d: calc(d)\n",
    "    )\n"
   ],
   "outputs": [],
   "metadata": {}
  },
  {
   "cell_type": "code",
   "execution_count": 37,
   "source": [
    "def dict_iteration(d):\n",
    "    def calc(d):\n",
    "        d_dict = d.to_dict(\"records\")\n",
    "        result = []\n",
    "        previous = 0\n",
    "        for row in d_dict:\n",
    "            result += [row[\"passengers\"] + previous]\n",
    "            previous += row[\"passengers\"]\n",
    "        return result\n",
    "\n",
    "    return d.assign(\n",
    "        cumsum = lambda d: calc(d)\n",
    "    )\n"
   ],
   "outputs": [],
   "metadata": {}
  },
  {
   "cell_type": "code",
   "execution_count": 19,
   "source": [
    "%%timeit\n",
    "for_loop(df)"
   ],
   "outputs": [
    {
     "output_type": "stream",
     "name": "stdout",
     "text": [
      "8.02 ms ± 2.08 ms per loop (mean ± std. dev. of 7 runs, 100 loops each)\n"
     ]
    }
   ],
   "metadata": {}
  },
  {
   "cell_type": "code",
   "execution_count": 20,
   "source": [
    "%%timeit\n",
    "for_loop_iterrows(df)"
   ],
   "outputs": [
    {
     "output_type": "stream",
     "name": "stdout",
     "text": [
      "11.6 ms ± 1.47 ms per loop (mean ± std. dev. of 7 runs, 100 loops each)\n"
     ]
    }
   ],
   "metadata": {}
  },
  {
   "cell_type": "code",
   "execution_count": 26,
   "source": [
    "%%timeit\n",
    "for_loop_itertuples(df)"
   ],
   "outputs": [
    {
     "output_type": "stream",
     "name": "stdout",
     "text": [
      "1.27 ms ± 16.7 µs per loop (mean ± std. dev. of 7 runs, 1000 loops each)\n"
     ]
    }
   ],
   "metadata": {}
  },
  {
   "cell_type": "code",
   "execution_count": 35,
   "source": [
    "%%timeit\n",
    "pandas_cumsum(df)"
   ],
   "outputs": [
    {
     "output_type": "stream",
     "name": "stdout",
     "text": [
      "876 µs ± 189 µs per loop (mean ± std. dev. of 7 runs, 1000 loops each)\n"
     ]
    }
   ],
   "metadata": {}
  },
  {
   "cell_type": "code",
   "execution_count": 45,
   "source": [
    "%%timeit\n",
    "numpy_array_iteration(df)"
   ],
   "outputs": [
    {
     "output_type": "stream",
     "name": "stdout",
     "text": [
      "823 µs ± 70.4 µs per loop (mean ± std. dev. of 7 runs, 1000 loops each)\n"
     ]
    }
   ],
   "metadata": {}
  },
  {
   "cell_type": "code",
   "execution_count": 40,
   "source": [
    "%%timeit\n",
    "dict_iteration(df)"
   ],
   "outputs": [
    {
     "output_type": "stream",
     "name": "stdout",
     "text": [
      "1.52 ms ± 129 µs per loop (mean ± std. dev. of 7 runs, 100 loops each)\n"
     ]
    }
   ],
   "metadata": {}
  },
  {
   "cell_type": "code",
   "execution_count": 30,
   "source": [
    "pd.testing.assert_frame_equal(\n",
    "    for_loop(df),\n",
    "    for_loop_iterrows(df)\n",
    ")"
   ],
   "outputs": [],
   "metadata": {}
  },
  {
   "cell_type": "code",
   "execution_count": 31,
   "source": [
    "pd.testing.assert_frame_equal(\n",
    "    for_loop(df),\n",
    "    for_loop_itertuples(df)\n",
    ")"
   ],
   "outputs": [],
   "metadata": {}
  },
  {
   "cell_type": "code",
   "execution_count": 32,
   "source": [
    "pd.testing.assert_frame_equal(\n",
    "    for_loop(df),\n",
    "    pandas_cumsum(df)\n",
    ")"
   ],
   "outputs": [],
   "metadata": {}
  },
  {
   "cell_type": "code",
   "execution_count": 43,
   "source": [
    "pd.testing.assert_frame_equal(\n",
    "    for_loop(df),\n",
    "    numpy_array_iteration(df)\n",
    ")"
   ],
   "outputs": [],
   "metadata": {}
  },
  {
   "cell_type": "code",
   "execution_count": 44,
   "source": [
    "pd.testing.assert_frame_equal(\n",
    "    for_loop(df),\n",
    "    dict_iteration(df)\n",
    ")"
   ],
   "outputs": [],
   "metadata": {}
  },
  {
   "cell_type": "code",
   "execution_count": null,
   "source": [],
   "outputs": [],
   "metadata": {}
  }
 ],
 "metadata": {
  "orig_nbformat": 4,
  "language_info": {
   "name": "python",
   "version": "3.9.7",
   "mimetype": "text/x-python",
   "codemirror_mode": {
    "name": "ipython",
    "version": 3
   },
   "pygments_lexer": "ipython3",
   "nbconvert_exporter": "python",
   "file_extension": ".py"
  },
  "kernelspec": {
   "name": "python3",
   "display_name": "Python 3.9.7 64-bit ('modernpandas': conda)"
  },
  "interpreter": {
   "hash": "1cddcd3bf520ceeec38f8103cc702b4c8abe5d6f91ca24279e698df94a2f83d1"
  }
 },
 "nbformat": 4,
 "nbformat_minor": 2
}